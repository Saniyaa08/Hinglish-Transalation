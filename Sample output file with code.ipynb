{
 "cells": [
  {
   "cell_type": "code",
   "execution_count": 2,
   "id": "bf6f3475",
   "metadata": {},
   "outputs": [
    {
     "name": "stdout",
     "output_type": "stream",
     "text": [
      "Collecting translate\n",
      "  Downloading translate-3.6.1-py2.py3-none-any.whl (12 kB)\n",
      "Requirement already satisfied: requests in c:\\users\\dell\\anaconda3\\lib\\site-packages (from translate) (2.27.1)\n",
      "Requirement already satisfied: click in c:\\users\\dell\\anaconda3\\lib\\site-packages (from translate) (8.1.7)\n",
      "Collecting libretranslatepy==2.1.1\n",
      "  Downloading libretranslatepy-2.1.1-py3-none-any.whl (3.2 kB)\n",
      "Requirement already satisfied: lxml in c:\\users\\dell\\anaconda3\\lib\\site-packages (from translate) (4.8.0)\n",
      "Requirement already satisfied: colorama in c:\\users\\dell\\anaconda3\\lib\\site-packages (from click->translate) (0.4.6)\n",
      "Requirement already satisfied: certifi>=2017.4.17 in c:\\users\\dell\\anaconda3\\lib\\site-packages (from requests->translate) (2021.10.8)\n",
      "Requirement already satisfied: idna<4,>=2.5 in c:\\users\\dell\\anaconda3\\lib\\site-packages (from requests->translate) (3.3)\n",
      "Requirement already satisfied: charset-normalizer~=2.0.0 in c:\\users\\dell\\anaconda3\\lib\\site-packages (from requests->translate) (2.0.4)\n",
      "Requirement already satisfied: urllib3<1.27,>=1.21.1 in c:\\users\\dell\\anaconda3\\lib\\site-packages (from requests->translate) (1.26.9)\n",
      "Installing collected packages: libretranslatepy, translate\n",
      "Successfully installed libretranslatepy-2.1.1 translate-3.6.1\n"
     ]
    }
   ],
   "source": [
    "!pip install translate"
   ]
  },
  {
   "cell_type": "code",
   "execution_count": 3,
   "id": "7577a396",
   "metadata": {},
   "outputs": [],
   "source": [
    "from translate import Translator\n",
    "\n",
    "def translate_to_hinglish(text):\n",
    "    translator = Translator(to_lang=\"hi\")\n",
    "    hinglish_text = translator.translate(text)\n",
    "    return hinglish_text"
   ]
  },
  {
   "cell_type": "code",
   "execution_count": 4,
   "id": "c26502e7",
   "metadata": {},
   "outputs": [
    {
     "name": "stdout",
     "output_type": "stream",
     "text": [
      "Translated Hinglish sentences:\n",
      "1. कमेंट सेक्शन में अपना फ़ीडबैक ज़रूर शेयर करें।\n",
      "2. इसलिए भले ही यह एक बड़ा वीडियो हो, मैं स्पष्ट रूप से सभी उत्पादों का उल्लेख करूंगा।\n",
      "3. मैं अपने बैग का इंतजार कर रही थी।\n"
     ]
    }
   ],
   "source": [
    "if __name__ == \"__main__\":\n",
    "    # Provide the English sentences for translation\n",
    "    english_sentences = [\n",
    "        \"Definitely share your feedback in the comment section.\",\n",
    "        \"So even if it's a big video, I will clearly mention all the products.\",\n",
    "        \"I was waiting for my bag.\"\n",
    "    ]\n",
    "\n",
    "    # Translate each English sentence to Hinglish\n",
    "    hinglish_sentences = [translate_to_hinglish(sentence) for sentence in english_sentences]\n",
    "\n",
    "    # Print the Hinglish translations\n",
    "    print(\"Translated Hinglish sentences:\")\n",
    "    for i, sentence in enumerate(hinglish_sentences, start=1):\n",
    "        print(f\"{i}. {sentence}\")"
   ]
  },
  {
   "cell_type": "code",
   "execution_count": null,
   "id": "2386e9bb",
   "metadata": {},
   "outputs": [],
   "source": []
  }
 ],
 "metadata": {
  "kernelspec": {
   "display_name": "Python 3 (ipykernel)",
   "language": "python",
   "name": "python3"
  },
  "language_info": {
   "codemirror_mode": {
    "name": "ipython",
    "version": 3
   },
   "file_extension": ".py",
   "mimetype": "text/x-python",
   "name": "python",
   "nbconvert_exporter": "python",
   "pygments_lexer": "ipython3",
   "version": "3.9.12"
  }
 },
 "nbformat": 4,
 "nbformat_minor": 5
}
